{
 "cells": [
  {
   "cell_type": "markdown",
   "metadata": {},
   "source": [
    "## Deploying Docker to Azure Web Apps"
   ]
  },
  {
   "cell_type": "markdown",
   "metadata": {},
   "source": [
    "Based on Mathew's tutorial located [here](https://github.com/msalvaris/batch_shipyard_notebooks/blob/master/cifar_example/train_on_azure_batch_shipyard.ipynb)"
   ]
  },
  {
   "cell_type": "markdown",
   "metadata": {},
   "source": [
    "Tutorial currently **not working with CNTK Docker Image** because the Docker image is too big for the Web App (examples & tutorials aren't very big):\n",
    "\n",
    "```\n",
    "couldn't open temporary file ...: No space left on device\n",
    "```"
   ]
  },
  {
   "cell_type": "code",
   "execution_count": 40,
   "metadata": {
    "collapsed": true
   },
   "outputs": [],
   "source": [
    "import os \n",
    "from os import path\n",
    "import json"
   ]
  },
  {
   "cell_type": "code",
   "execution_count": 11,
   "metadata": {
    "collapsed": false
   },
   "outputs": [
    {
     "name": "stdout",
     "output_type": "stream",
     "text": [
      "\r\n",
      "Hello from Docker!\r\n",
      "This message shows that your installation appears to be working correctly.\r\n",
      "\r\n",
      "To generate this message, Docker took the following steps:\r\n",
      " 1. The Docker client contacted the Docker daemon.\r\n",
      " 2. The Docker daemon pulled the \"hello-world\" image from the Docker Hub.\r\n",
      " 3. The Docker daemon created a new container from that image which runs the\r\n",
      "    executable that produces the output you are currently reading.\r\n",
      " 4. The Docker daemon streamed that output to the Docker client, which sent it\r\n",
      "    to your terminal.\r\n",
      "\r\n",
      "To try something more ambitious, you can run an Ubuntu container with:\r\n",
      " $ docker run -it ubuntu bash\r\n",
      "\r\n",
      "Share images, automate workflows, and more with a free Docker ID:\r\n",
      " https://cloud.docker.com/\r\n",
      "\r\n",
      "For more examples and ideas, visit:\r\n",
      " https://docs.docker.com/engine/userguide/\r\n",
      "\r\n"
     ]
    }
   ],
   "source": [
    "# Check that docker is working\n",
    "!docker run --rm hello-world"
   ]
  },
  {
   "cell_type": "markdown",
   "metadata": {},
   "source": [
    "### Step 1. Create WebApp Code"
   ]
  },
  {
   "cell_type": "code",
   "execution_count": 33,
   "metadata": {
    "collapsed": false
   },
   "outputs": [],
   "source": [
    "%%bash\n",
    "mkdir script\n",
    "mkdir script/code"
   ]
  },
  {
   "cell_type": "code",
   "execution_count": 213,
   "metadata": {
    "collapsed": false
   },
   "outputs": [
    {
     "name": "stdout",
     "output_type": "stream",
     "text": [
      "Overwriting script/code/model.py\n"
     ]
    }
   ],
   "source": [
    "%%writefile script/code/model.py\n",
    "from flask import Flask\n",
    "#import cntk\n",
    "import pkg_resources\n",
    "app = Flask(__name__)\n",
    "print(\"Something outside of @app.route() is always loaded\")\n",
    "\n",
    "@app.route(\"/\")\n",
    "def healthy_me():\n",
    "    return \"healthy\"\n",
    "\n",
    "#@app.route('/cntk')\n",
    "#def cntk_ver():\n",
    "#    return \"CNTK version: {}\".format(pkg_resources.get_distribution(\"cntk\").version)\n",
    "\n",
    "if __name__ == '__main__':\n",
    "    # This is just for debugging\n",
    "    app.run(host='0.0.0.0', port=5005)"
   ]
  },
  {
   "cell_type": "code",
   "execution_count": 214,
   "metadata": {
    "collapsed": false
   },
   "outputs": [
    {
     "name": "stdout",
     "output_type": "stream",
     "text": [
      "from flask import Flask\r\n",
      "#import cntk\r\n",
      "import pkg_resources\r\n",
      "app = Flask(__name__)\r\n",
      "print(\"Something outside of @app.route() is always loaded\")\r\n",
      "\r\n",
      "@app.route(\"/\")\r\n",
      "def healthy_me():\r\n",
      "    return \"healthy\"\r\n",
      "\r\n",
      "#@app.route('/cntk')\r\n",
      "#def cntk_ver():\r\n",
      "#    return \"CNTK version: {}\".format(pkg_resources.get_distribution(\"cntk\").version)\r\n",
      "\r\n",
      "if __name__ == '__main__':\r\n",
      "    # This is just for debugging\r\n",
      "    app.run(host='0.0.0.0', port=5005)"
     ]
    }
   ],
   "source": [
    "!cat script/code/model.py"
   ]
  },
  {
   "cell_type": "code",
   "execution_count": 215,
   "metadata": {
    "collapsed": false
   },
   "outputs": [
    {
     "name": "stdout",
     "output_type": "stream",
     "text": [
      "Overwriting script/code/requirements.txt\n"
     ]
    }
   ],
   "source": [
    "%%writefile script/code/requirements.txt\n",
    "Flask\n",
    "gunicorn"
   ]
  },
  {
   "cell_type": "code",
   "execution_count": 216,
   "metadata": {
    "collapsed": false
   },
   "outputs": [
    {
     "name": "stdout",
     "output_type": "stream",
     "text": [
      "Flask\r\n",
      "gunicorn"
     ]
    }
   ],
   "source": [
    "!cat script/code/requirements.txt"
   ]
  },
  {
   "cell_type": "markdown",
   "metadata": {},
   "source": [
    "### Step 2. Create Azure Registry to host container"
   ]
  },
  {
   "cell_type": "code",
   "execution_count": null,
   "metadata": {
    "collapsed": false
   },
   "outputs": [],
   "source": [
    "!az login -o table"
   ]
  },
  {
   "cell_type": "code",
   "execution_count": 20,
   "metadata": {
    "collapsed": true
   },
   "outputs": [],
   "source": [
    "selected_subscription = \"'Team Danielle Internal'\""
   ]
  },
  {
   "cell_type": "code",
   "execution_count": 21,
   "metadata": {
    "collapsed": false
   },
   "outputs": [],
   "source": [
    "!az account set --subscription $selected_subscription"
   ]
  },
  {
   "cell_type": "code",
   "execution_count": 26,
   "metadata": {
    "collapsed": true
   },
   "outputs": [],
   "source": [
    "docker_registry = \"ikmscontainer\"\n",
    "docker_registry_group = \"ikmscontainergorup\""
   ]
  },
  {
   "cell_type": "code",
   "execution_count": null,
   "metadata": {
    "collapsed": false
   },
   "outputs": [],
   "source": [
    "!az group create -n $docker_registry_group -l southcentralus -o table"
   ]
  },
  {
   "cell_type": "code",
   "execution_count": null,
   "metadata": {
    "collapsed": false
   },
   "outputs": [],
   "source": [
    "!az acr create -n $docker_registry -g $docker_registry_group -l southcentralus -o table"
   ]
  },
  {
   "cell_type": "code",
   "execution_count": null,
   "metadata": {
    "collapsed": false
   },
   "outputs": [],
   "source": [
    "!az acr update -n $docker_registry --admin-enabled true -o table"
   ]
  },
  {
   "cell_type": "code",
   "execution_count": 30,
   "metadata": {
    "collapsed": true
   },
   "outputs": [],
   "source": [
    "json_data = !az acr credential show -n $docker_registry\n",
    "docker_username = json.loads(''.join(json_data))['username']\n",
    "docker_password = json.loads(''.join(json_data))['password']"
   ]
  },
  {
   "cell_type": "code",
   "execution_count": null,
   "metadata": {
    "collapsed": false
   },
   "outputs": [],
   "source": [
    "print(docker_username)\n",
    "print(docker_password)"
   ]
  },
  {
   "cell_type": "code",
   "execution_count": 31,
   "metadata": {
    "collapsed": true
   },
   "outputs": [],
   "source": [
    "json_data = !az acr show -n $docker_registry\n",
    "docker_registry_server = json.loads(''.join(json_data))['loginServer']"
   ]
  },
  {
   "cell_type": "markdown",
   "metadata": {},
   "source": [
    "### Step 3. Create Docker Image"
   ]
  },
  {
   "cell_type": "code",
   "execution_count": 36,
   "metadata": {
    "collapsed": true
   },
   "outputs": [],
   "source": [
    "!mkdir script/docker"
   ]
  },
  {
   "cell_type": "markdown",
   "metadata": {},
   "source": [
    "Create dockerfile which pulls CNTL image from: CNTK Docker Images [here](https://hub.docker.com/r/microsoft/cntk/). We remove the examples and tutorials folders to reduce space used."
   ]
  },
  {
   "cell_type": "code",
   "execution_count": 167,
   "metadata": {
    "collapsed": false
   },
   "outputs": [
    {
     "data": {
      "text/plain": [
       "'\\n%%writefile script/docker/dockerfile\\n\\nFROM microsoft/cntk:2.0.beta15.0-cpu-python3.5\\nMAINTAINER Ilia Karmanov\\nADD code /code\\nENV PATH /root/anaconda3/envs/cntk-py35/bin:$PATH\\nWORKDIR /code\\nRUN pip install -r requirements.txt &&     sudo rm -R /cntk/Examples &&     sudo rm -R /cntk/Tutorials\\n\\nEXPOSE 5005\\nCMD [\"python\", \"model.py\"]\\n'"
      ]
     },
     "execution_count": 167,
     "metadata": {},
     "output_type": "execute_result"
    }
   ],
   "source": [
    "# CNTK Docker Image is too big for WebApp\n",
    "\"\"\"\n",
    "%%writefile script/docker/dockerfile\n",
    "\n",
    "FROM microsoft/cntk:2.0.beta15.0-cpu-python3.5\n",
    "MAINTAINER Ilia Karmanov\n",
    "ADD code /code\n",
    "ENV PATH /root/anaconda3/envs/cntk-py35/bin:$PATH\n",
    "WORKDIR /code\n",
    "RUN pip install -r requirements.txt && \\\n",
    "    sudo rm -R /cntk/Examples && \\\n",
    "    sudo rm -R /cntk/Tutorials\n",
    "\n",
    "EXPOSE 5005\n",
    "CMD [\"python\", \"model.py\"]\n",
    "\"\"\""
   ]
  },
  {
   "cell_type": "markdown",
   "metadata": {},
   "source": [
    "I don't actually use gunicorn (use flask dev server) but will change later (should be trivial)"
   ]
  },
  {
   "cell_type": "code",
   "execution_count": 217,
   "metadata": {
    "collapsed": false
   },
   "outputs": [
    {
     "name": "stdout",
     "output_type": "stream",
     "text": [
      "Overwriting script/docker/dockerfile\n"
     ]
    }
   ],
   "source": [
    "%%writefile script/docker/dockerfile\n",
    "\n",
    "FROM python:3.6\n",
    "MAINTAINER Ilia Karmanov\n",
    "ADD code /code\n",
    "WORKDIR /code\n",
    "RUN pip install -r requirements.txt\n",
    "\n",
    "EXPOSE 5005\n",
    "CMD [\"python\", \"model.py\"]"
   ]
  },
  {
   "cell_type": "code",
   "execution_count": 218,
   "metadata": {
    "collapsed": false
   },
   "outputs": [],
   "source": [
    "container_name = docker_registry_server + \"/ilkarman/smallapp\"\n",
    "application_path = 'script'\n",
    "docker_file_location = path.join(application_path, 'docker/dockerfile')"
   ]
  },
  {
   "cell_type": "code",
   "execution_count": 219,
   "metadata": {
    "collapsed": false
   },
   "outputs": [
    {
     "name": "stdout",
     "output_type": "stream",
     "text": [
      "Login Succeeded\r\n"
     ]
    }
   ],
   "source": [
    "!docker login $docker_registry_server -u $docker_username -p $docker_password"
   ]
  },
  {
   "cell_type": "code",
   "execution_count": 222,
   "metadata": {
    "collapsed": false
   },
   "outputs": [],
   "source": [
    "#%%bash\n",
    "#docker stop $(docker ps -a -q)\n",
    "#docker rm $(docker ps -a -q)"
   ]
  },
  {
   "cell_type": "code",
   "execution_count": 223,
   "metadata": {
    "collapsed": false
   },
   "outputs": [
    {
     "name": "stdout",
     "output_type": "stream",
     "text": [
      "Sending build context to Docker daemon  5.12 kB\n",
      "Step 1 : FROM python:3.6\n",
      " ---> 787e9f4da78e\n",
      "Step 2 : MAINTAINER Ilia Karmanov\n",
      " ---> Running in 7550c0faf4d3\n",
      " ---> d9f927fa41d5\n",
      "Removing intermediate container 7550c0faf4d3\n",
      "Step 3 : ADD code /code\n",
      " ---> f970349dc325\n",
      "Removing intermediate container 419f08d0cd6f\n",
      "Step 4 : WORKDIR /code\n",
      " ---> Running in 85f246b5b3bf\n",
      " ---> fb58b3044170\n",
      "Removing intermediate container 85f246b5b3bf\n",
      "Step 5 : RUN pip install -r requirements.txt\n",
      " ---> Running in 9fc921f304dd\n",
      "Collecting Flask (from -r requirements.txt (line 1))\n",
      "  Downloading Flask-0.12-py2.py3-none-any.whl (82kB)\n",
      "Collecting gunicorn (from -r requirements.txt (line 2))\n",
      "  Downloading gunicorn-19.7.1-py2.py3-none-any.whl (111kB)\n",
      "Collecting itsdangerous>=0.21 (from Flask->-r requirements.txt (line 1))\n",
      "  Downloading itsdangerous-0.24.tar.gz (46kB)\n",
      "Collecting click>=2.0 (from Flask->-r requirements.txt (line 1))\n",
      "  Downloading click-6.7-py2.py3-none-any.whl (71kB)\n",
      "Collecting Jinja2>=2.4 (from Flask->-r requirements.txt (line 1))\n",
      "  Downloading Jinja2-2.9.5-py2.py3-none-any.whl (340kB)\n",
      "Collecting Werkzeug>=0.7 (from Flask->-r requirements.txt (line 1))\n",
      "  Downloading Werkzeug-0.12.1-py2.py3-none-any.whl (312kB)\n",
      "Collecting MarkupSafe>=0.23 (from Jinja2>=2.4->Flask->-r requirements.txt (line 1))\n",
      "  Downloading MarkupSafe-1.0.tar.gz\n",
      "Installing collected packages: itsdangerous, click, MarkupSafe, Jinja2, Werkzeug, Flask, gunicorn\n",
      "  Running setup.py install for itsdangerous: started\n",
      "    Running setup.py install for itsdangerous: finished with status 'done'\n",
      "  Running setup.py install for MarkupSafe: started\n",
      "    Running setup.py install for MarkupSafe: finished with status 'done'\n",
      "Successfully installed Flask-0.12 Jinja2-2.9.5 MarkupSafe-1.0 Werkzeug-0.12.1 click-6.7 gunicorn-19.7.1 itsdangerous-0.24\n",
      " ---> e8bca6615bea\n",
      "Removing intermediate container 9fc921f304dd\n",
      "Step 6 : EXPOSE 5005\n",
      " ---> Running in 5f2ff2ab5901\n",
      " ---> db61a014ae41\n",
      "Removing intermediate container 5f2ff2ab5901\n",
      "Step 7 : CMD python model.py\n",
      " ---> Running in caab884f2766\n",
      " ---> a27b1174a00c\n",
      "Removing intermediate container caab884f2766\n",
      "Successfully built a27b1174a00c\n"
     ]
    }
   ],
   "source": [
    "!docker build -t $container_name -f $docker_file_location $application_path --no-cache"
   ]
  },
  {
   "cell_type": "markdown",
   "metadata": {},
   "source": [
    "Test everything is working locally before pushing"
   ]
  },
  {
   "cell_type": "code",
   "execution_count": 224,
   "metadata": {
    "collapsed": false
   },
   "outputs": [
    {
     "name": "stdout",
     "output_type": "stream",
     "text": [
      "ikmscontainer.azurecr.io/ilkarman/smallapp\n"
     ]
    }
   ],
   "source": [
    "# To debug\n",
    "print(container_name)\n",
    "# In shell (run interactive mode):\n",
    "#docker run -it $container_name /bin/bash\n",
    "#conda info --env\n",
    "#which python\n",
    "# ... etc"
   ]
  },
  {
   "cell_type": "code",
   "execution_count": 225,
   "metadata": {
    "collapsed": false
   },
   "outputs": [],
   "source": [
    "test_cont = !docker run -p 5005:5005 -d $container_name"
   ]
  },
  {
   "cell_type": "code",
   "execution_count": 226,
   "metadata": {
    "collapsed": false
   },
   "outputs": [
    {
     "name": "stdout",
     "output_type": "stream",
     "text": [
      "healthy"
     ]
    }
   ],
   "source": [
    "import time; time.sleep(5)  # Wait to load\n",
    "!curl http://0.0.0.0:5005"
   ]
  },
  {
   "cell_type": "code",
   "execution_count": 227,
   "metadata": {
    "collapsed": false
   },
   "outputs": [],
   "source": [
    "#!curl http://0.0.0.0:5005/cntk"
   ]
  },
  {
   "cell_type": "code",
   "execution_count": 228,
   "metadata": {
    "collapsed": false
   },
   "outputs": [
    {
     "name": "stdout",
     "output_type": "stream",
     "text": [
      "f39352d3aa26727f5bcd6e946f5d297250ad115354317974be2df16e57f9401f\r\n"
     ]
    }
   ],
   "source": [
    "!docker kill {test_cont[0]}"
   ]
  },
  {
   "cell_type": "markdown",
   "metadata": {},
   "source": [
    "### Step 4. Push Docker Image to Registry"
   ]
  },
  {
   "cell_type": "code",
   "execution_count": 229,
   "metadata": {
    "collapsed": false
   },
   "outputs": [
    {
     "name": "stdout",
     "output_type": "stream",
     "text": [
      "The push refers to a repository [ikmscontainer.azurecr.io/ilkarman/smallapp]\n",
      "\n",
      "\u001b[0B569e79c7: Preparing \n",
      "\u001b[0Bfff48b3f: Preparing \n",
      "\u001b[0B72f6b211: Preparing \n",
      "\u001b[0Be7b30b3c: Preparing \n",
      "\u001b[0B16b85b72: Preparing \n",
      "\u001b[0Bde0e3e2b: Preparing \n",
      "\u001b[0B2eb04a92: Preparing \n",
      "\u001b[0B80599f68: Preparing \n",
      "\u001b[9B569e79c7: Pushed  12.15 MBarman/apptest \u001b[2K\u001b[9A\u001b[2K\u001b[9A\u001b[2K\u001b[9A\u001b[2K\u001b[9A\u001b[2K\u001b[9A\u001b[2K\u001b[9A\u001b[2K\u001b[9A\u001b[2K\u001b[9A\u001b[2K\u001b[9A\u001b[2K\u001b[9A\u001b[2K\u001b[9A\u001b[2K\u001b[9A\u001b[2K\u001b[9A\u001b[2K\u001b[9A\u001b[2K\u001b[9A\u001b[2K\u001b[9A\u001b[2K\u001b[9A\u001b[2K\u001b[9A\u001b[2K\u001b[9A\u001b[2K\u001b[9A\u001b[2K\u001b[9A\u001b[2K\u001b[9A\u001b[2K\u001b[9A\u001b[2K\u001b[9A\u001b[2K\u001b[9A\u001b[2K\u001b[9A\u001b[2K\u001b[9A\u001b[2K\u001b[9A\u001b[2K\u001b[9A\u001b[2K\u001b[9A\u001b[2K\u001b[9A\u001b[2K\u001b[1A\u001b[2K\u001b[9A\u001b[2K\u001b[9A\u001b[2Klatest: digest: sha256:1efdaef9d8c208753fe36ccff197f28c719cc5f7d0bf5ff12f839f04e76c5f98 size: 2214\n"
     ]
    }
   ],
   "source": [
    "!docker push $container_name"
   ]
  },
  {
   "cell_type": "markdown",
   "metadata": {},
   "source": [
    "Note: the size of the image, since the Web App loads the container into RAM you would need to configure it to have more RAM than the size of the image (if this is not possible then try to remove unnecessary files in your image or use another).\n",
    "\n",
    "Note: I'm not sure how much bigger deployed container is compared to compressed image?"
   ]
  },
  {
   "cell_type": "markdown",
   "metadata": {},
   "source": [
    "### Step 5. Create Azure Web App from Docker Image"
   ]
  },
  {
   "cell_type": "markdown",
   "metadata": {},
   "source": [
    "Note: Currently cannot find a CLI-way of doing this\n",
    "\n",
    "1. Go to your Azure Portal and create a new 'Web App on Linux (preview)' resource\n",
    "\n",
    "2. Click on 'Configure container' and select 'Private registry' under 'Image source'\n",
    "\n",
    "3. Configure the 'App Service plan/Location' so that your Web App size has enough RAM to host the container (e.g. S3)\n",
    "\n",
    "4. Enter the details to connect to your ACR:\n",
    "```\n",
    "Image and optional tag: ikmscontainer.azurecr.io/ilkarman/smallapp\n",
    "Server URL: http://ikmscontainer.azurecr.io\n",
    "Login username:<docker_username>\n",
    "Password:<docker_password>\n",
    "```\n",
    "\n",
    "6. Create your Web App\n",
    "\n",
    "7. Go to the 'Application Settings' blade, scroll down until you see 'App settings' and add an entry (to use whichever port you setup), and click save:\n",
    "```\n",
    "Key:PORT\n",
    "Value:5005\n",
    "```\n",
    "\n",
    "8. You should now be able to navigate to your Azure Web App address and see your project! If not - add '.scm' just before '.azurewebsites.net' in your URL e.g. https://ilialinuxapp.scm.azurewebsites.net/ to access the Kudu console and go to 'Debug console' -> 'Bash', where you can access logfiles such as:\n",
    "```\n",
    "cd /home/LogFiles/docker\n",
    "ls\n",
    "```\n",
    "\n",
    "9. The first load may take a while - this is because the docker image is downloaded to the WebApp. You can observe this by opening the first log-file in your directory:\n",
    "```\n",
    "cd /home/LogFiles/docker\n",
    "cat docker_13_out.log\n",
    "```\n",
    "    The output should look like:\n",
    "    ```\n",
    "    7d27bd3d7fec: Verifying Checksum\n",
    "    7d27bd3d7fec: Download complete\n",
    "    7d27bd3d7fec: Pull complete\n",
    "    44ae682c18a3: Pull complete\n",
    "    824bd01a76a3: Pull complete\n",
    "    68fe59875298: Pull complete\n",
    "    9ca1d7ae0c4b: Pull complete\n",
    "    46beba4b643f: Pull complete\n",
    "    651cd581382c: Pull complete\n",
    "    Digest: sha256:1efdaef9d8c208753fe36ccff197f28c719cc5f7d0bf5ff12f839f04e76c5f98\n",
    "    Status: Downloaded newer image for ikmscontainer.azurecr.io/ilkarman/smallapp:latest\n",
    "    ```\n",
    "\n",
    "\n"
   ]
  },
  {
   "cell_type": "code",
   "execution_count": 232,
   "metadata": {
    "collapsed": false
   },
   "outputs": [
    {
     "name": "stdout",
     "output_type": "stream",
     "text": [
      "healthy"
     ]
    }
   ],
   "source": [
    "# Success\n",
    "!curl http://ikappdemo.azurewebsites.net/"
   ]
  }
 ],
 "metadata": {
  "kernelspec": {
   "display_name": "Python [conda root]",
   "language": "python",
   "name": "conda-root-py"
  },
  "language_info": {
   "codemirror_mode": {
    "name": "ipython",
    "version": 2
   },
   "file_extension": ".py",
   "mimetype": "text/x-python",
   "name": "python",
   "nbconvert_exporter": "python",
   "pygments_lexer": "ipython2",
   "version": "2.7.13"
  }
 },
 "nbformat": 4,
 "nbformat_minor": 2
}
